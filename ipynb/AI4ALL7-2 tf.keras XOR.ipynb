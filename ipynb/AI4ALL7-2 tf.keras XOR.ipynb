{
 "cells": [
  {
   "cell_type": "markdown",
   "metadata": {},
   "source": [
    "The fear of the LORD is the beginning of knowledge, but fools despise wisdom and discipline. Proverbs 1:7\n",
    "\n",
    "-------\n",
    "\n",
    "# Welcome to \"AI for All\"\n",
    "\n",
    "Lecture Notes by idebtor@gmail.com, Handong Global University"
   ]
  },
  {
   "cell_type": "markdown",
   "metadata": {},
   "source": [
    "# 제 2 강 신경망을 내 손으로 만져보기(tf.keras & XOR)\n",
    "\n",
    "---------\n"
   ]
  },
  {
   "cell_type": "markdown",
   "metadata": {},
   "source": [
    "\n",
    "## AND 연산 \n",
    "\n",
    "AND 연산은 모두 입력이 참일 때, 참을 결과로 출력하는 연산입니다.  다음의 진리표에 표시된 바와 같습니다. \n",
    "\n",
    "<img src=\"https://github.com/idebtor/KMOOC-ML/blob/master/ipynb/images/truthtable.png?raw=true\" width=\"600\">\n",
    "<center>그림 1:  OR, AND, NAND, XOR 진리표 </center>\n",
    "\n",
    "\n",
    "이를 넘파이 배열로 나타내면 다음과 같습니다. \n"
   ]
  },
  {
   "cell_type": "code",
   "execution_count": 1,
   "metadata": {},
   "outputs": [
    {
     "name": "stdout",
     "output_type": "stream",
     "text": [
      "[[0. 0.]\n",
      " [0. 1.]\n",
      " [1. 0.]\n",
      " [1. 1.]]\n",
      "[[0.]\n",
      " [0.]\n",
      " [0.]\n",
      " [1.]]\n"
     ]
    }
   ],
   "source": [
    "import numpy as np\n",
    "x = np.array([[0, 0], [0, 1], [1, 0], [1, 1]], \"float32\") \n",
    "y = np.array([[0], [0], [0], [1]],  \"float32\")\n",
    "print(x)\n",
    "print(y)"
   ]
  },
  {
   "cell_type": "markdown",
   "metadata": {},
   "source": [
    "또한 가중치와 편향도 정규 분포를 가지는 난수로 초기화 해줍니다. 또한, 학습률은 0.1로 설정하였습니다.  input값이 두개이므로, 가중치도 각각에 맞춰서 두개를 선언해줍니다."
   ]
  },
  {
   "cell_type": "code",
   "execution_count": 2,
   "metadata": {},
   "outputs": [
    {
     "name": "stdout",
     "output_type": "stream",
     "text": [
      "tf.Tensor([-0.86640704  1.44009   ], shape=(2,), dtype=float32)\n",
      "tf.Tensor([-0.23903355], shape=(1,), dtype=float32)\n"
     ]
    }
   ],
   "source": [
    "import tensorflow as tf \n",
    "w = tf.random.normal([2], 0, 1)  # mean, std\n",
    "b = tf.random.normal([1], 0, 1)  # mean, std\n",
    "eta = 0.1   # learning rate\n",
    "print(w)\n",
    "print(b)"
   ]
  },
  {
   "cell_type": "markdown",
   "metadata": {},
   "source": [
    "이제 학습을 시켜보겠습니다. 앞에서 만든 편향을 가진 뉴런처럼 코드를 구성하면 됩니다. 각각 네가지 경우를 한번씩 학습할 때마다, 네가지 를 예측한 값과 실제 값의 차이인 error값의 합을 구해서 살펴보겠습니다.\n"
   ]
  },
  {
   "cell_type": "code",
   "execution_count": 4,
   "metadata": {},
   "outputs": [],
   "source": [
    "def sigmoid(x): \n",
    "    return  1 / (1 + np.exp(-x))"
   ]
  },
  {
   "cell_type": "code",
   "execution_count": 5,
   "metadata": {},
   "outputs": [
    {
     "name": "stdout",
     "output_type": "stream",
     "text": [
      "0 [-0.95151484]\n",
      "100 [-0.16347963]\n",
      "200 [-0.10764188]\n",
      "300 [-0.08082664]\n",
      "400 [-0.0647271]\n",
      "500 [-0.05392516]\n",
      "600 [-0.04616952]\n",
      "700 [-0.04033074]\n",
      "800 [-0.0357811]\n",
      "900 [-0.03213787]\n"
     ]
    }
   ],
   "source": [
    "for i in range(1000): \n",
    "    error_sum = 0 \n",
    "    for j in range(4): \n",
    "        y_hat = sigmoid (np.sum(x[j] * w) + b) \n",
    "        error = y[j][0] - y_hat \n",
    "        w = w + eta * 1 * error * x[j]\n",
    "        b = b + eta * 1 * error \n",
    "        error_sum += error \n",
    "    if i % 100 == 0: \n",
    "        print(i, error_sum)"
   ]
  },
  {
   "cell_type": "markdown",
   "metadata": {},
   "source": [
    "이제 학습시켜서 나온 가중치와 편향을 사용하여 각각의 케이스를 예측해 보겠습니다."
   ]
  },
  {
   "cell_type": "code",
   "execution_count": 6,
   "metadata": {},
   "outputs": [
    {
     "name": "stdout",
     "output_type": "stream",
     "text": [
      "X: [0. 0.] Y: [0.] y_hat: [0.00018573]\n",
      "X: [0. 1.] Y: [0.] y_hat: [0.04839294]\n",
      "X: [1. 0.] Y: [0.] y_hat: [0.04866675]\n",
      "X: [1. 1.] Y: [1.] y_hat: [0.9333522]\n"
     ]
    }
   ],
   "source": [
    "for i in range(4): \n",
    "    print('X:', x[i], 'Y:', y[i], 'y_hat:', sigmoid(np.sum(x[i]*w) + b))\n"
   ]
  },
  {
   "cell_type": "markdown",
   "metadata": {},
   "source": [
    "위와 같이, 실제로 1이 나와야하는 값은 1에 가깝게, 0에 가까워야하는 값은 0에 가깝게 예측이 되었습니다. `[0 0]` 케이스의 경우에는 다른 케이스들 보다 더 0에 가까운걸로 보아 더 확실한 케이스라는 점을 알 수 있습니다."
   ]
  },
  {
   "cell_type": "markdown",
   "metadata": {},
   "source": [
    "## OR 연산\n",
    "\n",
    "OR 연산은 입력들 중에 하나라도 참이면, 참을 결과로 출력하는 연산입니다.  이를 넘파이 배열로 나타내면 다음과 같습니다. "
   ]
  },
  {
   "cell_type": "code",
   "execution_count": 8,
   "metadata": {},
   "outputs": [
    {
     "name": "stdout",
     "output_type": "stream",
     "text": [
      "[[0. 0.]\n",
      " [0. 1.]\n",
      " [1. 0.]\n",
      " [1. 1.]]\n",
      "[[0.]\n",
      " [1.]\n",
      " [1.]\n",
      " [1.]]\n"
     ]
    }
   ],
   "source": [
    "x = np.array([[0, 0], [0, 1], [1, 0], [1, 1]], \"float32\") \n",
    "y = np.array([[0], [1], [1], [1]],  \"float32\")\n",
    "print(x)\n",
    "print(y)"
   ]
  },
  {
   "cell_type": "markdown",
   "metadata": {},
   "source": [
    "이를 AND와 같은 가중치, 편향, 학습률 및 학습 모델로 학습을 시키면 다음과 같습니다. "
   ]
  },
  {
   "cell_type": "code",
   "execution_count": 9,
   "metadata": {},
   "outputs": [
    {
     "name": "stdout",
     "output_type": "stream",
     "text": [
      "0 [1.9447308]\n",
      "100 [0.07116947]\n",
      "200 [0.02488196]\n",
      "300 [0.01035471]\n",
      "400 [0.00376951]\n",
      "500 [0.00040788]\n",
      "600 [-0.00139235]\n",
      "700 [-0.00237067]\n",
      "800 [-0.00289633]\n",
      "900 [-0.00316517]\n"
     ]
    }
   ],
   "source": [
    "for i in range(1000): \n",
    "    error_sum = 0 \n",
    "    for j in range(4): \n",
    "        y_hat = sigmoid (np.sum(x[j] * w) + b) \n",
    "        error = y[j][0] - y_hat \n",
    "        w = w + eta * 1 * error * x[j]\n",
    "        b = b + eta * 1 * error \n",
    "        error_sum += error \n",
    "    if i % 100 == 0: \n",
    "        print(i, error_sum)"
   ]
  },
  {
   "cell_type": "markdown",
   "metadata": {},
   "source": [
    "학습을 진행할 수록 error값의 합이 0에 가까워지는것을 확인할 수 있습니다. 각각의 케이스들을 해당 가중치와 편향으로 예측해보겠습니다."
   ]
  },
  {
   "cell_type": "code",
   "execution_count": 10,
   "metadata": {},
   "outputs": [
    {
     "name": "stdout",
     "output_type": "stream",
     "text": [
      "X: [0. 0.] Y: [0.] y_hat: [0.01864035]\n",
      "X: [0. 1.] Y: [1.] y_hat: [0.99235314]\n",
      "X: [1. 0.] Y: [1.] y_hat: [0.99231553]\n",
      "X: [1. 1.] Y: [1.] y_hat: [0.9999988]\n"
     ]
    }
   ],
   "source": [
    "for i in range(4): \n",
    "    print('X:', x[i], 'Y:', y[i], 'y_hat:', sigmoid(np.sum(x[i]*w) + b))"
   ]
  },
  {
   "cell_type": "markdown",
   "metadata": {},
   "source": [
    "## XOR 연산\n",
    "XOR은 AND나 OR연산과는 다르게 홀수 개의 입력이 참일 때, 결과가 참이 됩니다. 입력을 두개라고 한다면, 위의 진리표에 나타난 바와 같습니다.\n",
    "\n",
    "이를 넘파이 배열로 나타내면 다음과 같습니다. "
   ]
  },
  {
   "cell_type": "code",
   "execution_count": null,
   "metadata": {},
   "outputs": [],
   "source": [
    "import numpy as np\n",
    "import tensorflow as tf "
   ]
  },
  {
   "cell_type": "code",
   "execution_count": null,
   "metadata": {},
   "outputs": [],
   "source": [
    "x = np.array([[1, 1], [1, 0], [0, 1], [0, 0]],  \"float32\") \n",
    "y = np.array([[0], [1], [1], [0]],  \"float32\")"
   ]
  },
  {
   "cell_type": "markdown",
   "metadata": {},
   "source": [
    "이를 AND와 같은 가중치, 편향, 학습률 및 학습 모델로 학습을 시키면 다음과 같습니다. "
   ]
  },
  {
   "cell_type": "code",
   "execution_count": 12,
   "metadata": {},
   "outputs": [
    {
     "name": "stdout",
     "output_type": "stream",
     "text": [
      "0 [-0.00328542]\n",
      "100 [-0.00331896]\n",
      "200 [-0.00330157]\n",
      "300 [-0.00325537]\n",
      "400 [-0.00319251]\n",
      "500 [-0.00312098]\n",
      "600 [-0.00304543]\n",
      "700 [-0.00296872]\n",
      "800 [-0.00289285]\n",
      "900 [-0.00281856]\n",
      "1000 [-0.00274621]\n",
      "1100 [-0.00267683]\n",
      "1200 [-0.00261005]\n",
      "1300 [-0.0025459]\n",
      "1400 [-0.0024845]\n",
      "1500 [-0.00242584]\n",
      "1600 [-0.00236955]\n",
      "1700 [-0.00231564]\n",
      "1800 [-0.00226396]\n",
      "1900 [-0.00221459]\n"
     ]
    }
   ],
   "source": [
    "for i in range(2000): \n",
    "    error_sum = 0 \n",
    "    for j in range(4): \n",
    "        y_hat = sigmoid (np.sum(x[j] * w) + b) \n",
    "        error = y[j][0] - y_hat \n",
    "        w = w + eta * 1 * error * x[j]\n",
    "        b = b + eta * 1 * error \n",
    "        error_sum += error \n",
    "    if i % 100 == 0: \n",
    "        print(i, error_sum)"
   ]
  },
  {
   "cell_type": "markdown",
   "metadata": {},
   "source": [
    "위와 같이, 특정 학습 지점부터 에러 값이 0이 나와 버리고 있습니다. 이것이 과연 학습이 잘된걸까요? 계산된 가중치와 편향을 가지고 각 케이스를 계산해보았습니다.\n"
   ]
  },
  {
   "cell_type": "code",
   "execution_count": 11,
   "metadata": {},
   "outputs": [
    {
     "name": "stdout",
     "output_type": "stream",
     "text": [
      "X: [0. 0.] Y: [0.] y_hat: [0.01864035]\n",
      "X: [0. 1.] Y: [1.] y_hat: [0.99235314]\n",
      "X: [1. 0.] Y: [1.] y_hat: [0.99231553]\n",
      "X: [1. 1.] Y: [1.] y_hat: [0.9999988]\n"
     ]
    }
   ],
   "source": [
    "for i in range(4): \n",
    "    print('X:', x[i], 'Y:', y[i], 'y_hat:', sigmoid(np.sum(x[i]*w) + b))"
   ]
  },
  {
   "cell_type": "markdown",
   "metadata": {},
   "source": [
    "위와 같이, 결과가 0이 나와야하든지, 1이 나와야하든지, 모든 케이스가 0.5에 가깝게 나오고 있습니다. 이것은 원하던 결과가 아닙니다. 결과를 해석해보자면, 가중치와 편향 값은 모두 케이스 순서에 의존적이 된다는 것을 알 수 있습니다. 먼저 들어간 `[1 1]`이라는 케이스가 네번째에 들어가는 `[0 0]`이라는 케이스보다 영향을 준다는 것입니다. `[1 1]`이라는 케이스가 먼저 들어가서 가중치와 편향에 중대한 영향을 미치고 이 값들을 가지고 학습을 진행한다는 것이 문제입니다.\n",
    "\n",
    "그러면 XOR문제는 풀지 못하는 걸까요? 여러 층의 퍼셉트론을 사용하면 해결이 됩니다."
   ]
  },
  {
   "cell_type": "markdown",
   "metadata": {},
   "source": [
    "### 단층 퍼셉트론에서의 XOR 문제점\n",
    "\n",
    "인공 신경망에서는 단층 퍼셉트론으로 XOR 연산이 불가능하다는 것은 마빈 민스키 등에 의해서 밝혀졌습니다. 이러한 내용이 밝혀지면서 인공지능의 겨울이 찾아왔었습니다. 그야말로 전설같은 이야기로 잘 알려져 있습니다. \n",
    "\n",
    "<img src=\"https://github.com/idebtor/KMOOC-ML/blob/master/ipynb/images/ai4all-history.jpg?raw=true\" width=\"900\">\n",
    "<center>그림 2: XOR 문제와 인공 지능의 발전사</center>"
   ]
  },
  {
   "cell_type": "markdown",
   "metadata": {},
   "source": [
    "인공 신경망(ANN, Aritificial Neural Networks)은 1943년 신경생리학자 Warren McCulloch과 수학자 Walter Pitts가 'A Logical Calculus of Ideas Immanent In Nervous Activity' 처음 소개했습니다. 그 이후 1960년대까지 당싱에 등장한 인공 신경망을 통해 사람들은 지능을 가지 기계가 상당히 엄청난 일을 해낼 것이라 생각했습니다. 그러나, 위의 그림(출처: [beamandrew's blog](https://beamandrew.github.io/deeplearning/2017/02/23/deep_learning_101_part1.html))처럼 사람들의 기대와는 달리 인공 신경망으로 XOR문제를 해결할 수 없게 되었고, 인공 지능과 관련한 연구는 암흑기로 접어 들게 되었다. 그래도, 1990년 대에는 SVM과 성능이 좋은 다른 머신러닝 알고리즘들이 나올 정도도 꾸준한 연구가 진행은 되고 있었습니다. \n",
    "\n",
    "2000년대에 들어서면서 인공 신경망은 2012년 ILSVRC2012 대회에서 인공 신경망을 깊게 쌓은 딥러닝 모델인 AlexNet이 압도적인 성적으로 우승하면서 다시금 주목받게 되었습니다. 이렇게 인공 신경망에 기반을 둔 딥러닝이 다시 주목받게 된 계기가 되었습니다. \n",
    "\n",
    "인공 지능의 발전사에서 약간의 의미가 있었던 XOR 문제를 이제 어렵지 않게 풀어볼 수 있는 문제가 되었습니다. "
   ]
  },
  {
   "cell_type": "markdown",
   "metadata": {},
   "source": [
    "## XOR 연산 다층 신경망\n",
    "\n",
    "\n",
    "<img src=\"https://github.com/idebtor/KMOOC-ML/blob/master/ipynb/images/ai4all-xor.png?raw=true\" width=\"600\">\n",
    "<center>그림 2:  XOR 연산을 위한 다층 인공 신경망</center>\n",
    "\n",
    "XOR 연산을 위한 2단의 Dense Layer로 구성하였습니다. Dense는 기본적인 레이어로, 입력과 출력 사이에 있는 모든 뉴런이 서로 연결되어 있는 레이어입니다. Dense Layer는 아래와 같이 선언이 가능합니다.\n",
    "\n",
    "```\n",
    "tf.keras.layers.Dense()\n",
    "```"
   ]
  },
  {
   "cell_type": "markdown",
   "metadata": {},
   "source": [
    "각각의 Layer는 순차적으로 배치되어있습니다. 이를 Sequential 신경망이라고 합니다. 이것은 아래와 같이 선언합니다.\n",
    "```\n",
    "tf.keras.Sequential()\n",
    "```"
   ]
  },
  {
   "cell_type": "markdown",
   "metadata": {},
   "source": [
    "Sequential한 Dense Layer를 2층으로 쌓도록 합니다."
   ]
  },
  {
   "cell_type": "code",
   "execution_count": 44,
   "metadata": {},
   "outputs": [],
   "source": [
    "import numpy as np\n",
    "import tensorflow as tf \n",
    "\n",
    "model = tf.keras.Sequential([ \n",
    "    tf.keras.layers.Dense(16, activation='relu', input_shape=(2,)), \n",
    "    tf.keras.layers.Dense(8, activation='sigmoid'), \n",
    "    tf.keras.layers.Dense(1, activation='sigmoid'),\n",
    "])"
   ]
  },
  {
   "cell_type": "markdown",
   "metadata": {},
   "source": [
    "순차적인 신경망안에 두개의 Dense Layer를 배치하고, 첫번째 Dense Layer는 2개의 뉴런을 선언하였고, 각 뉴런은 sigmoid를 활성함수로 가집니다. 입력 값은 두개이므로 모양이 (2,) 모양입니다. 두번째 Dense Layer는 1개의 뉴런을 선언하고, 마찬가지로 sigmoid 활성함수를 사용하였습니다.\n",
    "\n",
    "XOR연산이므로, x와 y값은 그대로 입니다."
   ]
  },
  {
   "cell_type": "code",
   "execution_count": 72,
   "metadata": {},
   "outputs": [],
   "source": [
    "x = np.array([[1, 1], [1, 0], [0, 1], [0, 0]],  \"float32\") \n",
    "y = np.array([[0], [1], [1], [0]],  \"float32\")"
   ]
  },
  {
   "cell_type": "markdown",
   "metadata": {},
   "source": [
    "이제는 model을 준비시키는 명령어를 사용하여 최적화 함수(optimizer)와 손실 함수(loss)를 정의합니다. "
   ]
  },
  {
   "cell_type": "code",
   "execution_count": 73,
   "metadata": {},
   "outputs": [],
   "source": [
    "model.compile(\n",
    "    optimizer=tf.keras.optimizers.SGD(learning_rate=0.1), # 'adam', 'sgd', ...\n",
    "    loss='mse',   # 'mean_squared_error' 'binary_crossentropy'\n",
    "    metrics=['accuracy'])"
   ]
  },
  {
   "cell_type": "markdown",
   "metadata": {},
   "source": [
    "tf.keras에서는 다양한 최적화 함수와 손실 함수를 제공합니다. 그 중에서도 SGD(Stochastic Gradient Descent)는 확률적 경사 하강법이라고 합니다. 경사 하강법은 앞선 포스팅에서 설명하였고, 이 경사 하강법을 한번에 계산(전체 데이터세트를 사용)하지 않고 확률을 이용하여 부분적으로 나눠서 계산을 한다는 의미입니다.\n",
    "\n",
    "SGD(Stochastic Gradient Descent)\n",
    "\n",
    "- 기존의 경사 하강법은 데이터세트의 크기가 너무 커지면 계산이 오래 걸리는 단점이 있었습니다.\n",
    "- SGD는 반복당 하나의 데이터(Batch=1)만을 사용하여 적은 계산으로 기울기를 얻어내는 방식입니다.\n",
    "- 단점: 반복이 충분하면 효과는 좋지만, 노이즈가 심합니다. 최저점을 찾는다는 보장이 없습니다. 가능성만 높을 뿐입니다.\n",
    "- 위의 단점을 극복하기 위해서 미니 배치 SGD가 있습니다. 배치를 너무 크게도 너무 작게도 잡지 않고 SGD보다 노이즈는 적게, 일반 경사 하강법보다는 효율적으로 찾는 방식입니다. \n",
    "\n",
    "손실 함수(Loss Function)은 RMSE의 제곱인 MSE를 사용하기로 합니다."
   ]
  },
  {
   "cell_type": "markdown",
   "metadata": {},
   "source": [
    "아래와 같이, summary() 메소드를 사용하여 형성된 신경망의 구조를 살펴볼 수 있습니다."
   ]
  },
  {
   "cell_type": "code",
   "execution_count": 74,
   "metadata": {},
   "outputs": [
    {
     "name": "stdout",
     "output_type": "stream",
     "text": [
      "Model: \"sequential_8\"\n",
      "_________________________________________________________________\n",
      "Layer (type)                 Output Shape              Param #   \n",
      "=================================================================\n",
      "dense_18 (Dense)             (None, 64)                192       \n",
      "_________________________________________________________________\n",
      "dense_19 (Dense)             (None, 1)                 65        \n",
      "=================================================================\n",
      "Total params: 257\n",
      "Trainable params: 257\n",
      "Non-trainable params: 0\n",
      "_________________________________________________________________\n"
     ]
    }
   ],
   "source": [
    "model.summary()"
   ]
  },
  {
   "cell_type": "markdown",
   "metadata": {},
   "source": [
    "파라미터는 첫번째 Layer에서 입력값에 가중치가 곱해지고 편향이 더해져서 은닉층의 각 노드에 3개의 파라미터가 전달되어 총 6개입니다. 두번째 Layer에서는 첫 Layer에서 나온 출력 값 두개와 편향을 합쳐서 총 3개의 값이 두번째 층에 전달되어 결과적으로 하나의 출력(예측) 값이 나오게 됩니다."
   ]
  },
  {
   "cell_type": "code",
   "execution_count": 79,
   "metadata": {
    "scrolled": true
   },
   "outputs": [],
   "source": [
    "history = model.fit(x, y, epochs=20000, batch_size=1, verbose = 0)\n",
    "#print(model.evaluate(x, y))"
   ]
  },
  {
   "cell_type": "markdown",
   "metadata": {},
   "source": [
    "학습을 진행하면 위와 같은 출력이 나오며, 손실 값을 알려줍니다. 손실 값은 학습을 진행할수록 0에 가까워지는 것을 확인할 수 있습니다.\n",
    "\n",
    "이제 제대로 학습이 되었는지 확인해봅니다. 아래의 코드를 통해서 x에 대한 예측 값을 출력 받을 수 있습니다."
   ]
  },
  {
   "cell_type": "code",
   "execution_count": 80,
   "metadata": {
    "code_folding": [],
    "scrolled": true
   },
   "outputs": [
    {
     "name": "stdout",
     "output_type": "stream",
     "text": [
      "[[0.5258435]\n",
      " [0.5258435]\n",
      " [0.5258435]\n",
      " [0.5258435]]\n"
     ]
    }
   ],
   "source": [
    "print(model.predict(x))\n",
    "# print(model.predict_classes(x))"
   ]
  },
  {
   "cell_type": "markdown",
   "metadata": {},
   "source": [
    "정답은 0, 1, 1, 0 순서입니다. 각각 0과 1에 해당하는 수에 가깝게 나오고 있는것을 확인 할 수 있습니다. 이는 학습을 더 많이 할수록 더 정답에 해당하는 수치로 갈것 입니다.\n",
    "\n",
    "이제는 가중치와 편향 값을 확인해봅니다."
   ]
  },
  {
   "cell_type": "code",
   "execution_count": 50,
   "metadata": {},
   "outputs": [
    {
     "name": "stdout",
     "output_type": "stream",
     "text": [
      "<tf.Variable 'dense_9/kernel:0' shape=(2, 16) dtype=float32, numpy=\n",
      "array([[-1.8383033 ,  2.002077  , -0.15336403,  0.17284101,  0.40487793,\n",
      "        -0.39525723,  0.894477  ,  0.19128728, -0.963422  ,  0.661773  ,\n",
      "         0.21490027, -0.12429199,  0.32307467, -0.32486495,  0.4248714 ,\n",
      "         0.35300758],\n",
      "       [ 1.8383809 , -2.0019991 ,  0.027582  ,  0.4018159 ,  0.36233777,\n",
      "         0.04373157, -0.89447284,  0.1680474 ,  0.96346265, -0.07535206,\n",
      "         0.18341437,  0.0245843 , -0.323068  ,  0.25839257, -0.13547379,\n",
      "         0.35302055]], dtype=float32)>\n",
      "<tf.Variable 'dense_9/bias:0' shape=(16,) dtype=float32, numpy=\n",
      "array([-1.06409745e-04, -3.34489450e-05, -2.87178047e-02, -1.75003061e-06,\n",
      "       -3.62346560e-01, -4.74123955e-02, -1.76793710e-05,  1.11435475e-06,\n",
      "       -3.74453484e-05,  4.57547575e-01, -7.41923986e-06, -2.46842932e-02,\n",
      "       -2.57454326e-06, -5.60296621e-06,  5.21387041e-01, -3.53024423e-01],\n",
      "      dtype=float32)>\n",
      "<tf.Variable 'dense_10/kernel:0' shape=(16, 8) dtype=float32, numpy=\n",
      "array([[ 0.7058575 , -0.9632141 ,  0.72024685, -1.6391068 ,  0.14220835,\n",
      "        -0.5173822 ,  1.0931907 ,  1.0669917 ],\n",
      "       [ 0.1258447 , -0.8050199 ,  0.890411  , -1.6292588 , -0.06278258,\n",
      "        -1.1615973 ,  1.0238702 ,  1.3305454 ],\n",
      "       [ 0.48837632, -0.00574703, -0.32741088,  0.42822203,  0.11559074,\n",
      "        -0.1957597 , -0.14594874, -0.2758522 ],\n",
      "       [-0.39779344, -0.09886017,  0.41206768, -0.14604221,  0.2541984 ,\n",
      "        -0.21198432, -0.2393871 ,  0.1329013 ],\n",
      "       [-0.5134334 ,  0.15216905, -0.24365158,  0.66687316,  0.28657573,\n",
      "        -0.2684437 ,  0.3699968 , -0.48526666],\n",
      "       [-0.49117747,  0.32018355, -0.49373874,  0.48590025,  0.10513802,\n",
      "         0.34467605,  0.14656852, -0.45017564],\n",
      "       [ 0.334067  , -0.4858078 ,  0.80374026, -0.76785076,  0.3511925 ,\n",
      "        -0.5640605 ,  0.3638718 ,  0.2917795 ],\n",
      "       [-0.10991909, -0.30191717,  0.15956807, -0.03522239,  0.29942983,\n",
      "        -0.34222916,  0.2849412 , -0.43978345],\n",
      "       [ 0.6688643 , -0.6036436 ,  0.43786433, -0.4569154 ,  0.06097913,\n",
      "        -0.4175958 ,  0.41245958,  0.78461045],\n",
      "       [ 0.3123663 ,  0.19668241, -0.4936781 ,  0.39523473,  0.27708873,\n",
      "         0.32457882, -0.32284808,  0.12715723],\n",
      "       [ 0.29659042, -0.33638403,  0.3991199 ,  0.00970245,  0.06696312,\n",
      "        -0.39452824, -0.2534092 , -0.3309946 ],\n",
      "       [-0.32970318,  0.15869124,  0.12347951,  0.0636956 ,  0.46742722,\n",
      "         0.1388264 , -0.10197168,  0.46886715],\n",
      "       [-0.13752337, -0.20189661, -0.08663943, -0.01893372, -0.20724799,\n",
      "         0.003289  ,  0.2933333 ,  0.6289494 ],\n",
      "       [ 0.42960775,  0.11195946,  0.40844974,  0.02848015,  0.41389018,\n",
      "         0.01599147,  0.49293357, -0.04009173],\n",
      "       [ 0.44137707,  0.17214079, -0.04748738,  0.27793783, -0.15259843,\n",
      "         0.26831523, -0.4565593 , -0.582044  ],\n",
      "       [-0.50168216,  0.12582068, -0.03975227, -0.04790363,  0.22198993,\n",
      "         0.16114268, -0.28354645, -0.61650956]], dtype=float32)>\n",
      "<tf.Variable 'dense_10/bias:0' shape=(8,) dtype=float32, numpy=\n",
      "array([-0.17324542,  0.38526043, -0.35156494,  0.89018744,  0.05550064,\n",
      "        0.37838584, -0.286459  , -0.49181077], dtype=float32)>\n",
      "<tf.Variable 'dense_11/kernel:0' shape=(8, 1) dtype=float32, numpy=\n",
      "array([[ 0.8045657 ],\n",
      "       [-1.7808132 ],\n",
      "       [ 1.521841  ],\n",
      "       [-3.220851  ],\n",
      "       [-0.21634585],\n",
      "       [-1.7647241 ],\n",
      "       [ 1.659328  ],\n",
      "       [ 2.19481   ]], dtype=float32)>\n",
      "<tf.Variable 'dense_11/bias:0' shape=(1,) dtype=float32, numpy=array([-0.6381905], dtype=float32)>\n"
     ]
    }
   ],
   "source": [
    "for weight in model.weights: \n",
    "    print(weight)"
   ]
  },
  {
   "cell_type": "code",
   "execution_count": 51,
   "metadata": {},
   "outputs": [
    {
     "data": {
      "image/png": "[encoded data removed]",
      "text/plain": [
       "<Figure size 432x288 with 1 Axes>"
      ]
     },
     "metadata": {
      "needs_background": "light"
     },
     "output_type": "display_data"
    }
   ],
   "source": [
    "import matplotlib.pyplot as plt\n",
    "\n",
    "plt.plot(history.history['loss'])\n",
    "plt.title('Model Loss')\n",
    "plt.xlabel('Epoch')\n",
    "plt.ylabel('Loss')\n",
    "plt.show()"
   ]
  },
  {
   "cell_type": "code",
   "execution_count": 52,
   "metadata": {},
   "outputs": [
    {
     "data": {
      "image/png": "[encoded data removed]",
      "text/plain": [
       "<Figure size 432x288 with 1 Axes>"
      ]
     },
     "metadata": {
      "needs_background": "light"
     },
     "output_type": "display_data"
    }
   ],
   "source": [
    "plt.plot(history.history['accuracy'])\n",
    "plt.title('Model Accuracy')\n",
    "plt.xlabel('Epoch')\n",
    "plt.ylabel('Model Accuracy')\n",
    "plt.show()"
   ]
  },
  {
   "cell_type": "markdown",
   "metadata": {},
   "source": [
    "## Tweaking the model.\n",
    "- increasing the number of hidden layers or nodes \n",
    "- trying to use different activation functions or optimizer\n",
    "- using different batch sizes, 1 or 4"
   ]
  },
  {
   "cell_type": "code",
   "execution_count": null,
   "metadata": {},
   "outputs": [],
   "source": [
    "model = tf.keras.Sequential([ \n",
    "    tf.keras.layers.Dense(32, activation='relu', input_shape=(2,)), \n",
    "    tf.keras.layers.Dense(32, activation='relu'), \n",
    "    tf.keras.layers.Dense(1, activation='sigmoid') \n",
    "])"
   ]
  },
  {
   "cell_type": "code",
   "execution_count": null,
   "metadata": {},
   "outputs": [],
   "source": [
    "model = tf.keras.Sequential([ \n",
    "    tf.keras.layers.Dense(64, activation='relu', input_shape=(2,)), \n",
    "    tf.keras.layers.Dense(1, activation='sigmoid') \n",
    "])"
   ]
  },
  {
   "cell_type": "code",
   "execution_count": null,
   "metadata": {},
   "outputs": [],
   "source": [
    "model.compile(loss='mean_squared_error',\n",
    "              optimizer='adam',\n",
    "              metrics=['accuracy'])"
   ]
  },
  {
   "cell_type": "markdown",
   "metadata": {},
   "source": [
    "#### Question: Is it possible to solve XOR with no activation function at all?"
   ]
  },
  {
   "cell_type": "code",
   "execution_count": 55,
   "metadata": {},
   "outputs": [],
   "source": [
    "def linear(x):\n",
    "    '''\n",
    "    The function returns the variable that is passed in, so all types work.\n",
    "    '''\n",
    "    return x\n",
    "\n",
    "model = tf.keras.Sequential([ \n",
    "    tf.keras.layers.Dense(32, activation='linear', input_shape=(2,)), \n",
    "    tf.keras.layers.Dense(1, activation='linear')\n",
    "])"
   ]
  },
  {
   "cell_type": "code",
   "execution_count": null,
   "metadata": {},
   "outputs": [],
   "source": [
    "def linear(x):\n",
    "    '''\n",
    "    The function returns the variable that is passed in, so all types work.\n",
    "    '''\n",
    "    return x"
   ]
  },
  {
   "cell_type": "markdown",
   "metadata": {},
   "source": [
    "-------\n",
    "__Be joyful always!__ 1 Thes.5:16"
   ]
  }
 ],
 "metadata": {
  "kernelspec": {
   "display_name": "Python 3",
   "language": "python",
   "name": "python3"
  },
  "language_info": {
   "codemirror_mode": {
    "name": "ipython",
    "version": 3
   },
   "file_extension": ".py",
   "mimetype": "text/x-python",
   "name": "python",
   "nbconvert_exporter": "python",
   "pygments_lexer": "ipython3",
   "version": "3.7.7"
  }
 },
 "nbformat": 4,
 "nbformat_minor": 1
}
